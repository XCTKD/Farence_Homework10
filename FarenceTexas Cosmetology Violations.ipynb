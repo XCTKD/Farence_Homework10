{
 "cells": [
  {
   "cell_type": "markdown",
   "metadata": {},
   "source": [
    "# Texas Cosmetologist Violations\n",
    "\n",
    "Texas has a system for [searching for license violations](https://www.tdlr.texas.gov/cimsfo/fosearch.asp). You're going to search for cosmetologists!"
   ]
  },
  {
   "cell_type": "markdown",
   "metadata": {},
   "source": [
    "## Setup: Import what you'll need to scrape the page\n",
    "\n",
    "We'll be using Selenium for this, *not* BeautifulSoup and requests."
   ]
  },
  {
   "cell_type": "code",
   "execution_count": 1,
   "metadata": {},
   "outputs": [],
   "source": [
    "from selenium import webdriver\n",
    "from selenium.webdriver.common.keys import Keys\n",
    "from selenium.webdriver.support.ui import Select\n",
    "from selenium.webdriver.support.ui import WebDriverWait"
   ]
  },
  {
   "cell_type": "markdown",
   "metadata": {
    "collapsed": true
   },
   "source": [
    "## Starting your search\n",
    "\n",
    "Starting from [here](https://www.tdlr.texas.gov/cimsfo/fosearch.asp), search for **cosmetologist violations** for people with the last name **Nguyen**."
   ]
  },
  {
   "cell_type": "code",
   "execution_count": 2,
   "metadata": {},
   "outputs": [],
   "source": [
    "from selenium import webdriver\n",
    "driver = webdriver.Chrome()\n",
    "driver.get(\"https://www.tdlr.texas.gov/cimsfo/fosearch.asp\")"
   ]
  },
  {
   "cell_type": "code",
   "execution_count": 3,
   "metadata": {},
   "outputs": [],
   "source": [
    "select = Select(driver.find_element_by_id('pht_status'))\n",
    "select.select_by_visible_text('Cosmetologists')\n",
    "\n",
    "\n",
    "text_input = driver.find_element_by_id(\"pht_lnm\")\n",
    "text_input.send_keys('Nguyen')\n",
    "\n",
    "driver.find_element_by_name(\"B1\").click()"
   ]
  },
  {
   "cell_type": "code",
   "execution_count": null,
   "metadata": {},
   "outputs": [],
   "source": []
  },
  {
   "cell_type": "code",
   "execution_count": null,
   "metadata": {},
   "outputs": [],
   "source": []
  },
  {
   "cell_type": "code",
   "execution_count": null,
   "metadata": {},
   "outputs": [],
   "source": []
  },
  {
   "cell_type": "markdown",
   "metadata": {},
   "source": [
    "## Scraping\n",
    "\n",
    "Once you are on the results page, do this."
   ]
  },
  {
   "cell_type": "markdown",
   "metadata": {},
   "source": [
    "### Loop through each result and print the entire row\n",
    "\n",
    "Okay wait, that's a heck of a lot. Use `[:10]` to only do the first ten (`listname[:10]` gives you the first ten)."
   ]
  },
  {
   "cell_type": "code",
   "execution_count": 4,
   "metadata": {},
   "outputs": [
    {
     "name": "stdout",
     "output_type": "stream",
     "text": [
      "Name and Location Order Basis for Order\n",
      "NGUYEN, MIMI PHAM\n",
      "City: KATY\n",
      "County: HARRIS\n",
      "Zip Code: 77449\n",
      "\n",
      "\n",
      "License #: 784210\n",
      "\n",
      "Complaint # COS20190010072 Date: 11/12/2020\n",
      "\n",
      "Respondent is assessed an administrative penalty in the amount of $1,125. Respondent failed properly clean and sanitize the metal implements used at the Salon; Respondent failed to disinfect tools, implements, and supplies with an EPA-registered disinfectant solution.\n",
      "NGUYEN, HA\n",
      "City: ARLINGTON\n",
      "County: TARRANT\n",
      "Zip Code: 76017\n",
      "\n",
      "\n",
      "License #: 764888\n",
      "\n",
      "Complaint # COS20190016762 Date: 11/12/2020\n",
      "\n",
      "Respondent is assessed an administrative penalty in the amount of $2,250. Respondent failed to clean and sanitize four (4) whirlpool foot spas as required at the end of each day, constituting two (2) violations; Respondent failed to keep a record of the date and time of four (4) foot spas daily or bi-weekly cleaning and if the foot spas were not used, constituting two (2) violations.\n",
      "NGUYEN, THAO HONG\n",
      "City: SAN ANTONIO\n",
      "County: BEXAR\n",
      "Zip Code: 78238\n",
      "\n",
      "\n",
      "License #(s): 799926, 1753491\n",
      "\n",
      "Complaint # COS20200010387 Date: 11/12/2020\n",
      "\n",
      "Respondent is assessed an administrative penalty in the amount of $575. Respondent failed to clean, disinfect, and sterilize manicure and pedicure implements after each use.\n",
      "NGUYEN, CINDY\n",
      "City: CORPUS CHRISTI\n",
      "County: NUECES\n",
      "Zip Code: 78414\n",
      "\n",
      "\n",
      "License #(s): 806232, 1260359, 1280071\n",
      "\n",
      "Complaint # COS20200010502 Date: 10/29/2020\n",
      "\n",
      "Respondent is assessed an administrative penalty in the amount of $1,125. Respondent failed to clean and disinfect all wax pots; Respondent failed to properly clean multi-use items prior to each service.\n",
      "NGUYEN, CHAU KHANH LINH\n",
      "City: MONTGOMERY\n",
      "County: OUT OF STATE\n",
      "Zip Code: 36116\n",
      "\n",
      "\n",
      "License #: 1764073\n",
      "\n",
      "Complaint # COS20190008104 Date: 10/26/2020\n",
      "\n",
      "The Respondent's Cosmetology Manicurist license is revoked. Respondent engaged in fraud or deceit in obtaining a certificate, license, or permit.\n",
      "NGUYEN, TRANG T\n",
      "City: SEGUIN\n",
      "County: GUADALUPE\n",
      "Zip Code: 78155\n",
      "\n",
      "\n",
      "License #: 748483\n",
      "\n",
      "Complaint # COS20200010511 Date: 10/26/2020\n",
      "\n",
      "Respondent is assessed an administrative penalty in the amount of $935. Respondent failed properly clean and sanitize the metal implements used at the Salon; Respondent failed to wipe clean and disinfect electrical equipment that cannot be immersed in the liquid prior to each use on a client.\n",
      "NGUYEN, DUNG MINH\n",
      "City: HOUSTON\n",
      "County: HARRIS\n",
      "Zip Code: 77066\n",
      "\n",
      "\n",
      "License #: 785878\n",
      "\n",
      "Complaint # COS20200004202 Date: 10/19/2020\n",
      "\n",
      "Respondent is assessed an administrative penalty in the amount of $1,250. Respondent failed properly clean and sanitize the metal implements used at the Salon; Respondent failed to clean, disinfect, and sterilize metal instruments with a Department-approved sterilizer; Respondent failed to store eyelash extensions in a sealed bag or covered container and kept in a clean dry debris-free storage area; Respondent failed to keep a record of the date and time of each foot spa daily or bi-weekly cleaning and if the foot spa was not used.\n",
      "NGUYEN, YEN NHI THI\n",
      "City: AUSTIN\n",
      "County: TRAVIS\n",
      "Zip Code: 78717\n",
      "\n",
      "\n",
      "License #: 763645\n",
      "\n",
      "Complaint # COS20190004199 Date: 10/14/2020\n",
      "\n",
      "Respondent is assessed an administrative penalty in the amount of $675. Respondent failed to clean and disinfect all wax pots; Respondent failed to store in a clean, dry, debris-free environment, separate from soiled implements and materials, all cleaned and disinfected implements and materials when not in use; Respondent stored chemicals in a restroom accessible to the public; Respondent failed to keep all products properly labeled in compliance with OSHA requirements.\n",
      "NGUYEN, JOHNNY DAT\n",
      "City: MISSION\n",
      "County: HIDALGO\n",
      "Zip Code: 78574\n",
      "\n",
      "\n",
      "License #: 797651\n",
      "\n",
      "Complaint # COS20200000101 Date: 10/14/2020\n",
      "\n",
      "Respondent is assessed an administrative penalty in the amount of $1,500. Respondent failed to clean and sanitize whirlpool foot spas as required at the end of each day - two violations.\n"
     ]
    }
   ],
   "source": [
    "rows = driver.find_elements_by_tag_name(\"tr\")\n",
    "for row in rows[:10]:\n",
    "    print(row.text.strip())"
   ]
  },
  {
   "cell_type": "markdown",
   "metadata": {},
   "source": [
    "### Loop through each result and print each person's name\n",
    "\n",
    "You'll get an error because the first one doesn't have a name. How do you make that not happen?! If you want to ignore an error, you use code like this:\n",
    "\n",
    "```python\n",
    "try:\n",
    "   # try to do something\n",
    "except:\n",
    "   # Instead of stopping on an error, it'll jump down here instead\n",
    "   print(\"It didn't work')\n",
    "```\n",
    "\n",
    "It should help you out. If you don't want to print anything, you can type `pass` instead of the `print` statement. Most people use `pass`, but it's also nice to print out debug statements so you know when/where it's running into errors.\n",
    "\n",
    "**Why doesn't the first one have a name?**"
   ]
  },
  {
   "cell_type": "code",
   "execution_count": 5,
   "metadata": {},
   "outputs": [
    {
     "name": "stdout",
     "output_type": "stream",
     "text": [
      "NGUYEN, MIMI PHAM\n",
      "NGUYEN, HA\n",
      "NGUYEN, THAO HONG\n",
      "NGUYEN, CINDY\n",
      "NGUYEN, CHAU KHANH LINH\n",
      "NGUYEN, TRANG T\n",
      "NGUYEN, DUNG MINH\n",
      "NGUYEN, YEN NHI THI\n",
      "NGUYEN, JOHNNY DAT\n"
     ]
    }
   ],
   "source": [
    "for row in rows[:10]:\n",
    "    try:\n",
    "        first_name = row.find_element_by_class_name(\"results_text\")\n",
    "        print(first_name.text.strip())\n",
    "    except:\n",
    "        pass\n",
    "        "
   ]
  },
  {
   "cell_type": "markdown",
   "metadata": {},
   "source": [
    "## Loop through each result, printing each violation description (\"Basis for order\")\n",
    "\n",
    "> - *Tip: You'll get an error even if you're ALMOST right - which row is causing the problem?*\n",
    "> - *Tip: You can get the HTML of something by doing `.get_attribute('innerHTML')` - it might help you diagnose your issue.*\n",
    "> - *Tip: Or I guess you could just skip the one with the problem...*"
   ]
  },
  {
   "cell_type": "code",
   "execution_count": 6,
   "metadata": {},
   "outputs": [
    {
     "name": "stdout",
     "output_type": "stream",
     "text": [
      "Respondent failed properly clean and sanitize the metal implements used at the Salon; Respondent failed to disinfect tools, implements, and supplies with an EPA-registered disinfectant solution.\n",
      "-----\n",
      "Respondent failed to clean and sanitize four (4) whirlpool foot spas as required at the end of each day, constituting two (2) violations; Respondent failed to keep a record of the date and time of four (4) foot spas daily or bi-weekly cleaning and if the foot spas were not used, constituting two (2) violations.\n",
      "-----\n",
      "Respondent failed to clean, disinfect, and sterilize manicure and pedicure implements after each use.\n",
      "-----\n",
      "Respondent failed to clean and disinfect all wax pots; Respondent failed to properly clean multi-use items prior to each service.\n",
      "-----\n",
      "Respondent engaged in fraud or deceit in obtaining a certificate, license, or permit.\n",
      "-----\n",
      "Respondent failed properly clean and sanitize the metal implements used at the Salon; Respondent failed to wipe clean and disinfect electrical equipment that cannot be immersed in the liquid prior to each use on a client.\n",
      "-----\n",
      "Respondent failed properly clean and sanitize the metal implements used at the Salon; Respondent failed to clean, disinfect, and sterilize metal instruments with a Department-approved sterilizer; Respondent failed to store eyelash extensions in a sealed bag or covered container and kept in a clean dry debris-free storage area; Respondent failed to keep a record of the date and time of each foot spa daily or bi-weekly cleaning and if the foot spa was not used.\n",
      "-----\n",
      "Respondent failed to clean and disinfect all wax pots; Respondent failed to store in a clean, dry, debris-free environment, separate from soiled implements and materials, all cleaned and disinfected implements and materials when not in use; Respondent stored chemicals in a restroom accessible to the public; Respondent failed to keep all products properly labeled in compliance with OSHA requirements.\n",
      "-----\n",
      "Respondent failed to clean and sanitize whirlpool foot spas as required at the end of each day - two violations.\n",
      "-----\n"
     ]
    }
   ],
   "source": [
    "for row in rows[:10]:\n",
    "    try:\n",
    "        violation = row.find_elements_by_tag_name(\"td\")[2]\n",
    "        print(violation.text.strip())\n",
    "        print('-----')\n",
    "    except:\n",
    "        pass"
   ]
  },
  {
   "cell_type": "markdown",
   "metadata": {},
   "source": [
    "## Loop through each result, printing the complaint number\n",
    "\n",
    "- TIP: Think about the order of the elements"
   ]
  },
  {
   "cell_type": "code",
   "execution_count": 7,
   "metadata": {},
   "outputs": [
    {
     "name": "stdout",
     "output_type": "stream",
     "text": [
      "COS20190010072\n",
      "-----\n",
      "COS20190016762\n",
      "-----\n",
      "COS20200010387\n",
      "-----\n",
      "COS20200010502\n",
      "-----\n",
      "COS20190008104\n",
      "-----\n",
      "COS20200010511\n",
      "-----\n",
      "COS20200004202\n",
      "-----\n",
      "COS20190004199\n",
      "-----\n",
      "COS20200000101\n",
      "-----\n"
     ]
    }
   ],
   "source": [
    "for row in rows[:10]:\n",
    "    try:\n",
    "        complaint_number = row.find_elements_by_class_name(\"results_text\")[5]\n",
    "        print(complaint_number.text.strip())\n",
    "        print('-----')\n",
    "    except:\n",
    "        pass"
   ]
  },
  {
   "cell_type": "markdown",
   "metadata": {},
   "source": [
    "## Saving the results\n",
    "\n",
    "### Loop through each result to create a list of dictionaries\n",
    "\n",
    "Each dictionary must contain\n",
    "\n",
    "- Person's name\n",
    "- Violation description\n",
    "- Violation number\n",
    "- License Numbers\n",
    "- Zip Code\n",
    "- County\n",
    "- City\n",
    "\n",
    "Create a new dictionary for each result (except the header).\n",
    "\n",
    "> *Tip: If you want to ask for the \"next sibling,\" you can't use `find_next_sibling` in Selenium, you need to use `element.find_element_by_xpath(\"following-sibling::div\")` to find the next div, or `element.find_element_by_xpath(\"following-sibling::*\")` to find the next anything."
   ]
  },
  {
   "cell_type": "code",
   "execution_count": 8,
   "metadata": {},
   "outputs": [
    {
     "name": "stdout",
     "output_type": "stream",
     "text": [
      "[{'nguyen_name': 'NGUYEN, MIMI PHAM', 'violation': 'Respondent failed properly clean and sanitize the metal implements used at the Salon; Respondent failed to disinfect tools, implements, and supplies with an EPA-registered disinfectant solution.', 'complaint_number': 'COS20190010072', 'license_number': '784210', 'zip_code': '77449', 'county': 'HARRIS', 'city': 'KATY'}, {'nguyen_name': 'NGUYEN, HA', 'violation': 'Respondent failed to clean and sanitize four (4) whirlpool foot spas as required at the end of each day, constituting two (2) violations; Respondent failed to keep a record of the date and time of four (4) foot spas daily or bi-weekly cleaning and if the foot spas were not used, constituting two (2) violations.', 'complaint_number': 'COS20190016762', 'license_number': '764888', 'zip_code': '76017', 'county': 'TARRANT', 'city': 'ARLINGTON'}, {'nguyen_name': 'NGUYEN, THAO HONG', 'violation': 'Respondent failed to clean, disinfect, and sterilize manicure and pedicure implements after each use.', 'complaint_number': 'COS20200010387', 'license_number': '799926, 1753491', 'zip_code': '78238', 'county': 'BEXAR', 'city': 'SAN ANTONIO'}, {'nguyen_name': 'NGUYEN, CINDY', 'violation': 'Respondent failed to clean and disinfect all wax pots; Respondent failed to properly clean multi-use items prior to each service.', 'complaint_number': 'COS20200010502', 'license_number': '806232, 1260359, 1280071', 'zip_code': '78414', 'county': 'NUECES', 'city': 'CORPUS CHRISTI'}, {'nguyen_name': 'NGUYEN, CHAU KHANH LINH', 'violation': 'Respondent engaged in fraud or deceit in obtaining a certificate, license, or permit.', 'complaint_number': 'COS20190008104', 'license_number': '1764073', 'zip_code': '36116', 'county': 'OUT OF STATE', 'city': 'MONTGOMERY'}, {'nguyen_name': 'NGUYEN, TRANG T', 'violation': 'Respondent failed properly clean and sanitize the metal implements used at the Salon; Respondent failed to wipe clean and disinfect electrical equipment that cannot be immersed in the liquid prior to each use on a client.', 'complaint_number': 'COS20200010511', 'license_number': '748483', 'zip_code': '78155', 'county': 'GUADALUPE', 'city': 'SEGUIN'}, {'nguyen_name': 'NGUYEN, DUNG MINH', 'violation': 'Respondent failed properly clean and sanitize the metal implements used at the Salon; Respondent failed to clean, disinfect, and sterilize metal instruments with a Department-approved sterilizer; Respondent failed to store eyelash extensions in a sealed bag or covered container and kept in a clean dry debris-free storage area; Respondent failed to keep a record of the date and time of each foot spa daily or bi-weekly cleaning and if the foot spa was not used.', 'complaint_number': 'COS20200004202', 'license_number': '785878', 'zip_code': '77066', 'county': 'HARRIS', 'city': 'HOUSTON'}, {'nguyen_name': 'NGUYEN, YEN NHI THI', 'violation': 'Respondent failed to clean and disinfect all wax pots; Respondent failed to store in a clean, dry, debris-free environment, separate from soiled implements and materials, all cleaned and disinfected implements and materials when not in use; Respondent stored chemicals in a restroom accessible to the public; Respondent failed to keep all products properly labeled in compliance with OSHA requirements.', 'complaint_number': 'COS20190004199', 'license_number': '763645', 'zip_code': '78717', 'county': 'TRAVIS', 'city': 'AUSTIN'}, {'nguyen_name': 'NGUYEN, JOHNNY DAT', 'violation': 'Respondent failed to clean and sanitize whirlpool foot spas as required at the end of each day - two violations.', 'complaint_number': 'COS20200000101', 'license_number': '797651', 'zip_code': '78574', 'county': 'HIDALGO', 'city': 'MISSION'}]\n"
     ]
    }
   ],
   "source": [
    "nguyen_list = []\n",
    "\n",
    "for row in rows[:10]:\n",
    "    try:\n",
    "        info_dict = {}\n",
    "        \n",
    "        first_name = row.find_element_by_class_name(\"results_text\")\n",
    "        info_dict[\"nguyen_name\"] = first_name.text.strip()\n",
    "        #print(first_name.text.strip())\n",
    "        \n",
    "        violation = row.find_elements_by_tag_name(\"td\")[2]\n",
    "        info_dict[\"violation\"] = violation.text.strip()\n",
    "        #print(\"Violation: \"+violation.text.strip())\n",
    "        \n",
    "        complaint_number = row.find_elements_by_class_name(\"results_text\")[5]\n",
    "        info_dict[\"complaint_number\"] = complaint_number.text.strip()\n",
    "        #print(\"Complaint Number: \"+complaint_number.text.strip())\n",
    "        \n",
    "        license_number = row.find_elements_by_class_name(\"results_text\")[4]\n",
    "        info_dict[\"license_number\"] = license_number.text.strip()\n",
    "        #print(\"License Number: \"+license_number.text.strip())\n",
    "        \n",
    "        zip_code = row.find_elements_by_class_name(\"results_text\")[3]\n",
    "        info_dict[\"zip_code\"] = zip_code.text.strip()\n",
    "        #print(\"Zip Code: \"+zip_code.text.strip())\n",
    "        \n",
    "        county = row.find_elements_by_class_name(\"results_text\")[2]\n",
    "        info_dict[\"county\"] = county.text.strip()\n",
    "        #print(\"County: \"+county.text.strip())\n",
    "        \n",
    "        city = row.find_elements_by_class_name(\"results_text\")[1]\n",
    "        info_dict[\"city\"] = city.text.strip()\n",
    "        #print(\"City: \"+city.text.strip())\n",
    "        #print('-----')\n",
    "        nguyen_list.append(info_dict)\n",
    "    except:\n",
    "        pass\n",
    "    \n",
    "print(nguyen_list)"
   ]
  },
  {
   "cell_type": "markdown",
   "metadata": {},
   "source": [
    "### Save that to a CSV\n",
    "\n",
    "- Tip: Use `pd.DataFrame` to create a dataframe, and then save it to a CSV."
   ]
  },
  {
   "cell_type": "code",
   "execution_count": 9,
   "metadata": {},
   "outputs": [],
   "source": [
    "import pandas as pd"
   ]
  },
  {
   "cell_type": "code",
   "execution_count": 10,
   "metadata": {},
   "outputs": [],
   "source": [
    "df = pd.DataFrame(nguyen_list)\n",
    "df.to_csv('nguyen.zip', index=False)\n",
    "\n",
    "\n"
   ]
  },
  {
   "cell_type": "markdown",
   "metadata": {},
   "source": [
    "### Open the CSV file and examine the first few. Make sure you didn't save an extra weird unnamed column."
   ]
  },
  {
   "cell_type": "code",
   "execution_count": 11,
   "metadata": {},
   "outputs": [],
   "source": [
    "df_created = pd.read_csv('nguyen.zip')"
   ]
  },
  {
   "cell_type": "code",
   "execution_count": 12,
   "metadata": {},
   "outputs": [
    {
     "data": {
      "text/html": [
       "<div>\n",
       "<style scoped>\n",
       "    .dataframe tbody tr th:only-of-type {\n",
       "        vertical-align: middle;\n",
       "    }\n",
       "\n",
       "    .dataframe tbody tr th {\n",
       "        vertical-align: top;\n",
       "    }\n",
       "\n",
       "    .dataframe thead th {\n",
       "        text-align: right;\n",
       "    }\n",
       "</style>\n",
       "<table border=\"1\" class=\"dataframe\">\n",
       "  <thead>\n",
       "    <tr style=\"text-align: right;\">\n",
       "      <th></th>\n",
       "      <th>nguyen_name</th>\n",
       "      <th>violation</th>\n",
       "      <th>complaint_number</th>\n",
       "      <th>license_number</th>\n",
       "      <th>zip_code</th>\n",
       "      <th>county</th>\n",
       "      <th>city</th>\n",
       "    </tr>\n",
       "  </thead>\n",
       "  <tbody>\n",
       "    <tr>\n",
       "      <th>0</th>\n",
       "      <td>NGUYEN, MIMI PHAM</td>\n",
       "      <td>Respondent failed properly clean and sanitize ...</td>\n",
       "      <td>COS20190010072</td>\n",
       "      <td>784210</td>\n",
       "      <td>77449</td>\n",
       "      <td>HARRIS</td>\n",
       "      <td>KATY</td>\n",
       "    </tr>\n",
       "    <tr>\n",
       "      <th>1</th>\n",
       "      <td>NGUYEN, HA</td>\n",
       "      <td>Respondent failed to clean and sanitize four (...</td>\n",
       "      <td>COS20190016762</td>\n",
       "      <td>764888</td>\n",
       "      <td>76017</td>\n",
       "      <td>TARRANT</td>\n",
       "      <td>ARLINGTON</td>\n",
       "    </tr>\n",
       "    <tr>\n",
       "      <th>2</th>\n",
       "      <td>NGUYEN, THAO HONG</td>\n",
       "      <td>Respondent failed to clean, disinfect, and ste...</td>\n",
       "      <td>COS20200010387</td>\n",
       "      <td>799926, 1753491</td>\n",
       "      <td>78238</td>\n",
       "      <td>BEXAR</td>\n",
       "      <td>SAN ANTONIO</td>\n",
       "    </tr>\n",
       "    <tr>\n",
       "      <th>3</th>\n",
       "      <td>NGUYEN, CINDY</td>\n",
       "      <td>Respondent failed to clean and disinfect all w...</td>\n",
       "      <td>COS20200010502</td>\n",
       "      <td>806232, 1260359, 1280071</td>\n",
       "      <td>78414</td>\n",
       "      <td>NUECES</td>\n",
       "      <td>CORPUS CHRISTI</td>\n",
       "    </tr>\n",
       "    <tr>\n",
       "      <th>4</th>\n",
       "      <td>NGUYEN, CHAU KHANH LINH</td>\n",
       "      <td>Respondent engaged in fraud or deceit in obtai...</td>\n",
       "      <td>COS20190008104</td>\n",
       "      <td>1764073</td>\n",
       "      <td>36116</td>\n",
       "      <td>OUT OF STATE</td>\n",
       "      <td>MONTGOMERY</td>\n",
       "    </tr>\n",
       "  </tbody>\n",
       "</table>\n",
       "</div>"
      ],
      "text/plain": [
       "               nguyen_name                                          violation  \\\n",
       "0        NGUYEN, MIMI PHAM  Respondent failed properly clean and sanitize ...   \n",
       "1               NGUYEN, HA  Respondent failed to clean and sanitize four (...   \n",
       "2        NGUYEN, THAO HONG  Respondent failed to clean, disinfect, and ste...   \n",
       "3            NGUYEN, CINDY  Respondent failed to clean and disinfect all w...   \n",
       "4  NGUYEN, CHAU KHANH LINH  Respondent engaged in fraud or deceit in obtai...   \n",
       "\n",
       "  complaint_number            license_number  zip_code        county  \\\n",
       "0   COS20190010072                    784210     77449        HARRIS   \n",
       "1   COS20190016762                    764888     76017       TARRANT   \n",
       "2   COS20200010387           799926, 1753491     78238         BEXAR   \n",
       "3   COS20200010502  806232, 1260359, 1280071     78414        NUECES   \n",
       "4   COS20190008104                   1764073     36116  OUT OF STATE   \n",
       "\n",
       "             city  \n",
       "0            KATY  \n",
       "1       ARLINGTON  \n",
       "2     SAN ANTONIO  \n",
       "3  CORPUS CHRISTI  \n",
       "4      MONTGOMERY  "
      ]
     },
     "execution_count": 12,
     "metadata": {},
     "output_type": "execute_result"
    }
   ],
   "source": [
    "df_created.head()"
   ]
  },
  {
   "cell_type": "markdown",
   "metadata": {},
   "source": [
    "## Let's do this an easier way\n",
    "\n",
    "Use Selenium and `pd.read_html` to get the table as a dataframe."
   ]
  },
  {
   "cell_type": "code",
   "execution_count": 42,
   "metadata": {},
   "outputs": [
    {
     "data": {
      "text/html": [
       "<div>\n",
       "<style scoped>\n",
       "    .dataframe tbody tr th:only-of-type {\n",
       "        vertical-align: middle;\n",
       "    }\n",
       "\n",
       "    .dataframe tbody tr th {\n",
       "        vertical-align: top;\n",
       "    }\n",
       "\n",
       "    .dataframe thead th {\n",
       "        text-align: right;\n",
       "    }\n",
       "</style>\n",
       "<table border=\"1\" class=\"dataframe\">\n",
       "  <thead>\n",
       "    <tr style=\"text-align: right;\">\n",
       "      <th></th>\n",
       "      <th>Name and Location</th>\n",
       "      <th>Order</th>\n",
       "      <th>Basis for Order</th>\n",
       "    </tr>\n",
       "  </thead>\n",
       "  <tbody>\n",
       "    <tr>\n",
       "      <th>0</th>\n",
       "      <td>NGUYEN, MIMI PHAM City: KATY County: HARRIS Zi...</td>\n",
       "      <td>Date: 11/12/2020Respondent is assessed an admi...</td>\n",
       "      <td>Respondent failed properly clean and sanitize ...</td>\n",
       "    </tr>\n",
       "    <tr>\n",
       "      <th>1</th>\n",
       "      <td>NGUYEN, HA City: ARLINGTON County: TARRANT Zip...</td>\n",
       "      <td>Date: 11/12/2020Respondent is assessed an admi...</td>\n",
       "      <td>Respondent failed to clean and sanitize four (...</td>\n",
       "    </tr>\n",
       "    <tr>\n",
       "      <th>2</th>\n",
       "      <td>NGUYEN, THAO HONG City: SAN ANTONIO County: BE...</td>\n",
       "      <td>Date: 11/12/2020Respondent is assessed an admi...</td>\n",
       "      <td>Respondent failed to clean, disinfect, and ste...</td>\n",
       "    </tr>\n",
       "    <tr>\n",
       "      <th>3</th>\n",
       "      <td>NGUYEN, CINDY City: CORPUS CHRISTI County: NUE...</td>\n",
       "      <td>Date: 10/29/2020Respondent is assessed an admi...</td>\n",
       "      <td>Respondent failed to clean and disinfect all w...</td>\n",
       "    </tr>\n",
       "    <tr>\n",
       "      <th>4</th>\n",
       "      <td>NGUYEN, CHAU KHANH LINH City: MONTGOMERY Count...</td>\n",
       "      <td>Date: 10/26/2020The Respondent's Cosmetology M...</td>\n",
       "      <td>Respondent engaged in fraud or deceit in obtai...</td>\n",
       "    </tr>\n",
       "  </tbody>\n",
       "</table>\n",
       "</div>"
      ],
      "text/plain": [
       "                                   Name and Location  \\\n",
       "0  NGUYEN, MIMI PHAM City: KATY County: HARRIS Zi...   \n",
       "1  NGUYEN, HA City: ARLINGTON County: TARRANT Zip...   \n",
       "2  NGUYEN, THAO HONG City: SAN ANTONIO County: BE...   \n",
       "3  NGUYEN, CINDY City: CORPUS CHRISTI County: NUE...   \n",
       "4  NGUYEN, CHAU KHANH LINH City: MONTGOMERY Count...   \n",
       "\n",
       "                                               Order  \\\n",
       "0  Date: 11/12/2020Respondent is assessed an admi...   \n",
       "1  Date: 11/12/2020Respondent is assessed an admi...   \n",
       "2  Date: 11/12/2020Respondent is assessed an admi...   \n",
       "3  Date: 10/29/2020Respondent is assessed an admi...   \n",
       "4  Date: 10/26/2020The Respondent's Cosmetology M...   \n",
       "\n",
       "                                     Basis for Order  \n",
       "0  Respondent failed properly clean and sanitize ...  \n",
       "1  Respondent failed to clean and sanitize four (...  \n",
       "2  Respondent failed to clean, disinfect, and ste...  \n",
       "3  Respondent failed to clean and disinfect all w...  \n",
       "4  Respondent engaged in fraud or deceit in obtai...  "
      ]
     },
     "execution_count": 42,
     "metadata": {},
     "output_type": "execute_result"
    }
   ],
   "source": [
    "table = driver.find_element_by_tag_name(\"table\")\n",
    "df = pd.read_html(table.get_attribute(\"outerHTML\"))\n",
    "df = df[0]\n",
    "df.head()"
   ]
  }
 ],
 "metadata": {
  "kernelspec": {
   "display_name": "Python 3",
   "language": "python",
   "name": "python3"
  },
  "language_info": {
   "codemirror_mode": {
    "name": "ipython",
    "version": 3
   },
   "file_extension": ".py",
   "mimetype": "text/x-python",
   "name": "python",
   "nbconvert_exporter": "python",
   "pygments_lexer": "ipython3",
   "version": "3.8.6"
  }
 },
 "nbformat": 4,
 "nbformat_minor": 2
}
